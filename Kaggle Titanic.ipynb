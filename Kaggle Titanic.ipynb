{
 "cells": [
  {
   "cell_type": "code",
   "execution_count": 91,
   "id": "1359bc0e-0603-4188-9c56-6f104813f49a",
   "metadata": {},
   "outputs": [],
   "source": [
    "import pandas as pd\n",
    "import numpy as np\n",
    "from sklearn.model_selection import train_test_split\n",
    "from sklearn.preprocessing import LabelEncoder\n",
    "from sklearn.impute import SimpleImputer\n",
    "from sklearn.linear_model import LogisticRegression\n",
    "from sklearn.metrics import accuracy_score"
   ]
  },
  {
   "cell_type": "code",
   "execution_count": 371,
   "id": "67e88f43-d333-4cf2-9fcb-aa99b274ee76",
   "metadata": {},
   "outputs": [
    {
     "name": "stdout",
     "output_type": "stream",
     "text": [
      "0.930622009569378\n"
     ]
    }
   ],
   "source": [
    "train_data = pd.read_csv('titanic/train.csv')\n",
    "test_data = pd.read_csv('titanic/test.csv')\n",
    "result = pd.read_csv('titanic/gender_submission.csv')\n",
    "\n",
    "train_data.drop(columns=['Cabin','PassengerId','Name','Ticket'], axis=1, inplace =True)\n",
    "test_data.drop(columns=['Cabin','PassengerId','Name','Ticket'], axis = 1 , inplace = True)\n",
    "\n",
    "label_encoder = LabelEncoder()\n",
    "result = label_encoder.fit_transform(result['Survived'])\n",
    "inp = SimpleImputer(strategy='most_frequent')\n",
    "test_data['Fare'] = inp.fit_transform(test_data[['Fare']]).ravel()\n",
    "train_data['Age'] = inp.fit_transform(train_data[['Age']]).ravel()\n",
    "test_data['Age'] = inp.transform(test_data[['Age']]).ravel()\n",
    "train_data['Sex'] = label_encoder.fit_transform(train_data['Sex'])\n",
    "test_data['Sex'] = label_encoder.transform(test_data['Sex'])\n",
    "\n",
    "train_data['Embarked'] = inp.fit_transform(train_data[['Embarked']]).ravel()\n",
    "test_data['Embarked'] = inp.transform(test_data[['Embarked']]).ravel()\n",
    "train_data['Embarked'] = label_encoder.fit_transform(train_data['Embarked'])\n",
    "test_data['Embarked'] = label_encoder.transform(test_data['Embarked'])\n",
    "\n",
    "X_train = train_data.drop(columns=['Survived'])\n",
    "y_train = train_data['Survived']\n",
    "model = LogisticRegression(max_iter=10000)\n",
    "model.fit(X_train,y_train)\n",
    "\n",
    "val_predictions = model.predict(test_data)\n",
    "\n",
    "percentage = accuracy_score(val_predictions,result)\n",
    "print(percentage)"
   ]
  },
  {
   "cell_type": "code",
   "execution_count": 412,
   "id": "95043cf5-cbbb-4a3c-bde6-0d4820930095",
   "metadata": {},
   "outputs": [],
   "source": [
    "# Save 'PassengerId' before dropping\n",
    "passenger_ids = pd.read_csv('titanic/test.csv')['PassengerId']\n",
    "\n",
    "# Create the prediction DataFrame with 'PassengerId'\n",
    "prediction_file = pd.DataFrame({\n",
    "    'PassengerId': passenger_ids,\n",
    "    'Prediction': val_predictions\n",
    "})\n",
    "prediction_file.to_csv('titanic_predictions.csv', index=False)"
   ]
  },
  {
   "cell_type": "code",
   "execution_count": null,
   "id": "a8ade015-da85-4db6-b008-36ddedb76f5b",
   "metadata": {},
   "outputs": [],
   "source": []
  }
 ],
 "metadata": {
  "kernelspec": {
   "display_name": "Python 3 (ipykernel)",
   "language": "python",
   "name": "python3"
  },
  "language_info": {
   "codemirror_mode": {
    "name": "ipython",
    "version": 3
   },
   "file_extension": ".py",
   "mimetype": "text/x-python",
   "name": "python",
   "nbconvert_exporter": "python",
   "pygments_lexer": "ipython3",
   "version": "3.12.4"
  }
 },
 "nbformat": 4,
 "nbformat_minor": 5
}
