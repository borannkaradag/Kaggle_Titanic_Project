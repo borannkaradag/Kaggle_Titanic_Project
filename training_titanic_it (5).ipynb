{
 "cells": [
  {
   "cell_type": "code",
   "execution_count": 34,
   "id": "d76c3dcc-a2a0-4f8a-a217-07b3a6d7fcd7",
   "metadata": {},
   "outputs": [
    {
     "name": "stdout",
     "output_type": "stream",
     "text": [
      "\n",
      "891\n",
      "Validation Accuracy: 0.8100558659217877\n",
      "1\n"
     ]
    }
   ],
   "source": [
    "import pandas as pd\n",
    "import numpy as np\n",
    "from sklearn.model_selection import train_test_split\n",
    "from sklearn.preprocessing import LabelEncoder\n",
    "from sklearn.impute import SimpleImputer\n",
    "from sklearn.linear_model import LogisticRegression\n",
    "from sklearn.metrics import accuracy_score\n",
    "\n",
    "train_data = pd.read_csv('titanic/train.csv')\n",
    "test_data = pd.read_csv('titanic/test.csv')\n",
    "\n",
    "train_data = train_data.drop(columns=['Cabin'])       # çok fazla missing value var hiç kullanmamak daha mantıklı geldi\n",
    "test_data = test_data.drop(columns=['Cabin'])        # yine de accuarcy artıyıor mu diye dene\n",
    "\n",
    "train_data = train_data.drop(columns=['PassengerId', 'Name'])\n",
    "test_data = test_data.drop(columns=['PassengerId', 'Name'])\n",
    "\n",
    "print()\n",
    "\n",
    "label_encoder = LabelEncoder()\n",
    "\n",
    "embarked_imputer = SimpleImputer(strategy='most_frequent')        # look it againp\n",
    "print(len(embarked_imputer.fit_transform(train_data[['Embarked']]).ravel()))\n",
    "train_data['Embarked'] = embarked_imputer.fit_transform(train_data[['Embarked']]).ravel()\n",
    "test_data['Embarked'] = embarked_imputer.transform(test_data[['Embarked']]).ravel()\n",
    "\n",
    "train_data['Sex'] = label_encoder.fit_transform(train_data['Sex'])\n",
    "test_data['Sex'] = label_encoder.transform(test_data['Sex'])\n",
    "\n",
    "train_data['Embarked'] = label_encoder.fit_transform(train_data['Embarked'])\n",
    "known_embarked_classes = set(label_encoder.classes_)\n",
    "test_data['Embarked'] = test_data['Embarked'].apply(lambda x: label_encoder.transform([x])[0] if x in known_embarked_classes else -1)\n",
    "\n",
    "train_data['Ticket'] = label_encoder.fit_transform(train_data['Ticket'])\n",
    "known_ticket_classes = set(label_encoder.classes_)\n",
    "test_data['Ticket'] = test_data['Ticket'].apply(lambda x: label_encoder.transform([x])[0] if x in known_ticket_classes else -1)\n",
    "\n",
    "X = train_data.drop('Survived', axis=1)\n",
    "y = train_data['Survived']\n",
    "\n",
    "X_train, X_val, y_train, y_val = train_test_split(X, y, test_size=0.2, random_state=42)\n",
    "\n",
    "imputer = SimpleImputer(strategy='mean')\n",
    "X_train = imputer.fit_transform(X_train)\n",
    "X_val = imputer.transform(X_val)\n",
    "test_data = imputer.transform(test_data)\n",
    "\n",
    "model = LogisticRegression(max_iter=1000)\n",
    "model.fit(X_train, y_train)\n",
    "\n",
    "# Predictions \n",
    "y_pred = model.predict(X_val)\n",
    "accuracy = accuracy_score(y_val, y_pred)\n",
    "test_predictions = model.predict(test_data)\n",
    "\n",
    "\n",
    "\n",
    "\n",
    "print(f'Validation Accuracy: {accuracy}')\n",
    "print(test_predictions[4]) # looking fifth predicition of the fifth one \n",
    "\n"
   ]
  },
  {
   "cell_type": "code",
   "execution_count": 43,
   "id": "af6079a0-4742-4608-95fe-93d4642d1e60",
   "metadata": {},
   "outputs": [
    {
     "name": "stdout",
     "output_type": "stream",
     "text": [
      "Predictions saved to prediction.csv\n"
     ]
    }
   ],
   "source": [
    "\n",
    "submission = pd.DataFrame({\n",
    "    'PassengerId': pd.read_csv('titanic/test.csv')['PassengerId'],  \n",
         'Name': pd.read_csv('titanic/test.csv')['Name'], \n",
    "    'Survived': test_predictions\n",
    "})\n",
    "\n",
    "submission.to_csv('prediction.csv', index=False)\n",
    "\n",
    "print('Predictions saved to prediction.csv')"
   ]
  },
  {
   "cell_type": "code",
   "execution_count": null,
   "id": "506627bc-300a-4a1c-9ffe-914acfdce84f",
   "metadata": {},
   "outputs": [],
   "source": []
  },
  {
   "cell_type": "code",
   "execution_count": null,
   "id": "541f5d9e-0cf9-4b28-92a7-5b30cc8b411d",
   "metadata": {},
   "outputs": [],
   "source": []
  }
 ],
 "metadata": {
  "kernelspec": {
   "display_name": "Python 3 (ipykernel)",
   "language": "python",
   "name": "python3"
  },
  "language_info": {
   "codemirror_mode": {
    "name": "ipython",
    "version": 3
   },
   "file_extension": ".py",
   "mimetype": "text/x-python",
   "name": "python",
   "nbconvert_exporter": "python",
   "pygments_lexer": "ipython3",
   "version": "3.12.4"
  }
 },
 "nbformat": 4,
 "nbformat_minor": 5
}
